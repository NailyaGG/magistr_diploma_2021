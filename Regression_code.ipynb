{
 "cells": [
  {
   "cell_type": "code",
   "execution_count": null,
   "metadata": {},
   "outputs": [],
   "source": [
    "import pandas as pd\n",
    "import numpy as np\n",
    "dataset = pd.read_excel('data.xlsx') \n",
    "\n",
    "dataset"
   ]
  },
  {
   "cell_type": "code",
   "execution_count": null,
   "metadata": {},
   "outputs": [],
   "source": [
    "dataset.columns"
   ]
  },
  {
   "cell_type": "code",
   "execution_count": null,
   "metadata": {},
   "outputs": [],
   "source": [
    "dataset_f=dataset.drop(dataset.index[dataset['YEAR']==2009])\n",
    "dataset_f['GOSZAKUP/EARNING']=dataset_f['GOSZAKUP']/dataset_f['EARNING']\n",
    "dataset_f['SUBSIDIES/EARNING']=dataset_f['SUBSIDIES']/dataset_f['EARNING']\n",
    "dataset_f['NIOKR/EARNING']=dataset_f['NIOKR']/dataset_f['EARNING']\n",
    "dataset_f['LAG_GOSZAKUP/EARNING']=dataset_f['LAG_GOSZAKUP']/dataset_f['LAG_EARNING']\n",
    "dataset_f['LAG_SUBSIDIES/EARNING']=dataset_f['LAG_SUBSIDIES']/dataset_f['LAG_EARNING']\n",
    "dataset_f['POLITIC*AGE_2019']=dataset_f['POLITIC']*dataset_f['AGE_2019']\n",
    "dataset_f['LAG_GOSZAKUP/EARNING*AGE_2019']=dataset_f['LAG_GOSZAKUP/EARNING']*dataset_f['AGE_2019']\n",
    "\n",
    "dataset_f"
   ]
  },
  {
   "cell_type": "code",
   "execution_count": null,
   "metadata": {},
   "outputs": [],
   "source": [
    "dataset_f=dataset_f.set_index(['INN','YEAR'])\n",
    "dataset_f"
   ]
  },
  {
   "cell_type": "code",
   "execution_count": null,
   "metadata": {},
   "outputs": [],
   "source": [
    "from linearmodels import PanelOLS\n",
    "import statsmodels.api as sm\n",
    "from linearmodels import RandomEffects"
   ]
  },
  {
   "cell_type": "code",
   "execution_count": null,
   "metadata": {},
   "outputs": [],
   "source": [
    "import seaborn as sns\n",
    "import matplotlib.pyplot as plt\n",
    "\n",
    "df_corr=dataset_f[['NIOKR','GOSZAKUP','EARNING','AGE_2019','CLEAN_PROFIT','SIZE','SUBSIDIES','DISTANCE_MSK']]\n",
    "df = pd.DataFrame(np.random.random((6, 4)), columns=list('ABCD'))\n",
    "fig, ax = plt.subplots()\n",
    "sns.heatmap(df_corr.corr(method='pearson'), annot=True, fmt='.4f', \n",
    "            cmap=plt.get_cmap('coolwarm'), cbar=False, ax=ax)\n",
    "ax.set_yticklabels(ax.get_yticklabels(), rotation=\"horizontal\")\n",
    "#df_corr.describe().to_excel(\"my_description.xlsx\")"
   ]
  },
  {
   "cell_type": "code",
   "execution_count": null,
   "metadata": {},
   "outputs": [],
   "source": [
    "#пример кода регрессии\n",
    "\n",
    "exog_vars = ['POLITIC','GOSZAKUP','SUBSIDIES','EARNING','CLEAN_PROFIT','AGE_2019','SIZE','DISTANCE_MSK']\n",
    "exog = sm.add_constant(dataset_f[exog_vars])\n",
    "\n",
    "endog = dataset_f['NIOKR']\n",
    "# random effects model\n",
    "model_re = RandomEffects(endog, exog) \n",
    "re_res = model_re.fit() \n",
    "#print results\n",
    "print(re_res)"
   ]
  },
  {
   "cell_type": "code",
   "execution_count": null,
   "metadata": {},
   "outputs": [],
   "source": []
  }
 ],
 "metadata": {
  "kernelspec": {
   "display_name": "Python 3",
   "language": "python",
   "name": "python3"
  },
  "language_info": {
   "codemirror_mode": {
    "name": "ipython",
    "version": 3
   },
   "file_extension": ".py",
   "mimetype": "text/x-python",
   "name": "python",
   "nbconvert_exporter": "python",
   "pygments_lexer": "ipython3",
   "version": "3.7.3"
  }
 },
 "nbformat": 4,
 "nbformat_minor": 2
}
